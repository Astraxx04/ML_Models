{
  "nbformat": 4,
  "nbformat_minor": 0,
  "metadata": {
    "colab": {
      "provenance": [],
      "authorship_tag": "ABX9TyNhZ2NMe+oQryXflSn7haNR",
      "include_colab_link": true
    },
    "kernelspec": {
      "name": "python3",
      "display_name": "Python 3"
    },
    "language_info": {
      "name": "python"
    }
  },
  "cells": [
    {
      "cell_type": "markdown",
      "metadata": {
        "id": "view-in-github",
        "colab_type": "text"
      },
      "source": [
        "<a href=\"https://colab.research.google.com/github/Astraxx04/ML_Models/blob/main/Mnist_NeuralNet.ipynb\" target=\"_parent\"><img src=\"https://colab.research.google.com/assets/colab-badge.svg\" alt=\"Open In Colab\"/></a>"
      ]
    },
    {
      "cell_type": "code",
      "execution_count": null,
      "metadata": {
        "id": "k0GdcaIHkAkF"
      },
      "outputs": [],
      "source": [
        "import sys\n",
        "import sklearn\n",
        "\n",
        "import tensorflow as tf\n",
        "from tensorflow import keras\n",
        "import numpy as np\n",
        "import os\n",
        "\n",
        "%matplotlib inline\n",
        "import matplotlib as mpl\n",
        "import matplotlib.pyplot as plt\n",
        "mpl.rc('axes', labelsize=14)\n",
        "mpl.rc('xtick', labelsize=12)\n",
        "mpl.rc('ytick', labelsize=12)\n",
        "\n",
        "np.random.seed(42)\n",
        "tf.random.set_seed(42)"
      ]
    },
    {
      "cell_type": "markdown",
      "source": [
        "Get the Data"
      ],
      "metadata": {
        "id": "gkC9RscYlLKS"
      }
    },
    {
      "cell_type": "code",
      "source": [
        "fashion_mnist = keras.datasets.fashion_mnist\n",
        "(X_train_full, y_train_full), (X_test, y_test) = fashion_mnist.load_data"
      ],
      "metadata": {
        "id": "NI0aVPaMkEGD"
      },
      "execution_count": null,
      "outputs": []
    },
    {
      "cell_type": "code",
      "source": [
        "X_train_full.shape"
      ],
      "metadata": {
        "colab": {
          "base_uri": "https://localhost:8080/"
        },
        "id": "_7cse0UckEIG",
        "outputId": "3de01adf-ddc5-47f9-87ee-bfa0bf4d4dea"
      },
      "execution_count": null,
      "outputs": [
        {
          "output_type": "execute_result",
          "data": {
            "text/plain": [
              "(60000, 28, 28)"
            ]
          },
          "metadata": {},
          "execution_count": 85
        }
      ]
    },
    {
      "cell_type": "code",
      "source": [
        "X_train_full.dtype"
      ],
      "metadata": {
        "colab": {
          "base_uri": "https://localhost:8080/"
        },
        "id": "1-4lXjmVkEKr",
        "outputId": "bfc5bb2f-8b00-4a64-e2f5-7df6716d738f"
      },
      "execution_count": null,
      "outputs": [
        {
          "output_type": "execute_result",
          "data": {
            "text/plain": [
              "dtype('uint8')"
            ]
          },
          "metadata": {},
          "execution_count": 86
        }
      ]
    },
    {
      "cell_type": "markdown",
      "source": [
        "Split into train val test and normalize"
      ],
      "metadata": {
        "id": "YrQDpnGpmjYP"
      }
    },
    {
      "cell_type": "code",
      "source": [
        "X_valid, X_train = X_train_full[:5000]/255., X_train_full[5000:]/255. \n",
        "y_valid, y_train = y_train_full[:5000], y_train_full[5000:]\n",
        "X_test = X_test/255."
      ],
      "metadata": {
        "id": "ff4rv5GPkEM0"
      },
      "execution_count": null,
      "outputs": []
    },
    {
      "cell_type": "code",
      "source": [
        "plt.imshow(X_train[0], cmap=\"binary\")"
      ],
      "metadata": {
        "colab": {
          "base_uri": "https://localhost:8080/",
          "height": 286
        },
        "id": "muBkU7OJkEPa",
        "outputId": "671e2103-8239-457e-ced9-3e627e64a69c"
      },
      "execution_count": null,
      "outputs": [
        {
          "output_type": "execute_result",
          "data": {
            "text/plain": [
              "<matplotlib.image.AxesImage at 0x7fb27ea99f10>"
            ]
          },
          "metadata": {},
          "execution_count": 88
        },
        {
          "output_type": "display_data",
          "data": {
            "text/plain": [
              "<Figure size 432x288 with 1 Axes>"
            ],
            "image/png": "[encoded data removed]"
          },
          "metadata": {
            "needs_background": "light"
          }
        }
      ]
    },
    {
      "cell_type": "code",
      "source": [
        "y_train[0]"
      ],
      "metadata": {
        "colab": {
          "base_uri": "https://localhost:8080/"
        },
        "id": "XzSVqktzkERt",
        "outputId": "805e4a0d-a5a4-4d86-c880-cd7d26a14b13"
      },
      "execution_count": null,
      "outputs": [
        {
          "output_type": "execute_result",
          "data": {
            "text/plain": [
              "4"
            ]
          },
          "metadata": {},
          "execution_count": 89
        }
      ]
    },
    {
      "cell_type": "code",
      "source": [
        "class_names = [\n",
        "    \"T-shirt\", \"Trouser\", \"Pullover\", \"Dress\", \"Coat\",\n",
        "     \"Sandal\", \"Shirt\", \"Sneaker\", \"Bag\", \"Ankle boot\"\n",
        "]"
      ],
      "metadata": {
        "id": "KQwlnDOjkEUG"
      },
      "execution_count": null,
      "outputs": []
    },
    {
      "cell_type": "code",
      "source": [
        "class_names[y_train[0]]"
      ],
      "metadata": {
        "colab": {
          "base_uri": "https://localhost:8080/",
          "height": 35
        },
        "id": "_gbeOkmUotCi",
        "outputId": "7984ef7b-5d6d-43e0-8508-084c409cb1a5"
      },
      "execution_count": null,
      "outputs": [
        {
          "output_type": "execute_result",
          "data": {
            "text/plain": [
              "'Coat'"
            ],
            "application/vnd.google.colaboratory.intrinsic+json": {
              "type": "string"
            }
          },
          "metadata": {},
          "execution_count": 91
        }
      ]
    },
    {
      "cell_type": "code",
      "source": [
        "X_valid.shape"
      ],
      "metadata": {
        "colab": {
          "base_uri": "https://localhost:8080/"
        },
        "id": "sTzDPQiIotEv",
        "outputId": "de08458e-11db-4c48-bf3e-9e1581dc2240"
      },
      "execution_count": null,
      "outputs": [
        {
          "output_type": "execute_result",
          "data": {
            "text/plain": [
              "(5000, 28, 28)"
            ]
          },
          "metadata": {},
          "execution_count": 92
        }
      ]
    },
    {
      "cell_type": "code",
      "source": [
        "X_test.shape"
      ],
      "metadata": {
        "colab": {
          "base_uri": "https://localhost:8080/"
        },
        "id": "rDNT8lbootHT",
        "outputId": "68d5f642-1848-434b-bb8e-40cdf1b997f8"
      },
      "execution_count": null,
      "outputs": [
        {
          "output_type": "execute_result",
          "data": {
            "text/plain": [
              "(10000, 28, 28)"
            ]
          },
          "metadata": {},
          "execution_count": 93
        }
      ]
    },
    {
      "cell_type": "markdown",
      "source": [
        "Create a Model"
      ],
      "metadata": {
        "id": "JFUgHtU1pplM"
      }
    },
    {
      "cell_type": "code",
      "source": [
        "keras.backend.clear_session()"
      ],
      "metadata": {
        "id": "qToOJ_8ootJr"
      },
      "execution_count": null,
      "outputs": []
    },
    {
      "cell_type": "code",
      "source": [
        "model = keras.models.Sequential([\n",
        "    keras.layers.Flatten(input_shape=[28,28]),\n",
        "    keras.layers.Dense(300, activation=\"relu\"),\n",
        "    keras.layers.Dense(100, activation=\"relu\"),\n",
        "    keras.layers.Dense(10, activation=\"softmax\")\n",
        "])"
      ],
      "metadata": {
        "id": "DdSHvGnMotMB"
      },
      "execution_count": null,
      "outputs": []
    },
    {
      "cell_type": "code",
      "source": [
        "model.layers"
      ],
      "metadata": {
        "colab": {
          "base_uri": "https://localhost:8080/"
        },
        "id": "GBYVLYyHotOp",
        "outputId": "761e3ef2-ac51-4497-9b13-a8568e8bb172"
      },
      "execution_count": null,
      "outputs": [
        {
          "output_type": "execute_result",
          "data": {
            "text/plain": [
              "[<keras.layers.reshaping.flatten.Flatten at 0x7fb20eb06040>,\n",
              " <keras.layers.core.dense.Dense at 0x7fb20eb06a30>,\n",
              " <keras.layers.core.dense.Dense at 0x7fb27ea99fa0>,\n",
              " <keras.layers.core.dense.Dense at 0x7fb27e8c3130>]"
            ]
          },
          "metadata": {},
          "execution_count": 96
        }
      ]
    },
    {
      "cell_type": "code",
      "source": [
        "model.summary()"
      ],
      "metadata": {
        "colab": {
          "base_uri": "https://localhost:8080/"
        },
        "id": "QxEAWPAEotRP",
        "outputId": "359e5111-886b-47ca-d3fc-1d5f332b4fd7"
      },
      "execution_count": null,
      "outputs": [
        {
          "output_type": "stream",
          "name": "stdout",
          "text": [
            "Model: \"sequential\"\n",
            "_________________________________________________________________\n",
            " Layer (type)                Output Shape              Param #   \n",
            "=================================================================\n",
            " flatten (Flatten)           (None, 784)               0         \n",
            "                                                                 \n",
            " dense (Dense)               (None, 300)               235500    \n",
            "                                                                 \n",
            " dense_1 (Dense)             (None, 100)               30100     \n",
            "                                                                 \n",
            " dense_2 (Dense)             (None, 10)                1010      \n",
            "                                                                 \n",
            "=================================================================\n",
            "Total params: 266,610\n",
            "Trainable params: 266,610\n",
            "Non-trainable params: 0\n",
            "_________________________________________________________________\n"
          ]
        }
      ]
    },
    {
      "cell_type": "code",
      "source": [
        "keras.utils.plot_model(model, \"my_fashion_mnist_model.png\", show_shapes=True)"
      ],
      "metadata": {
        "colab": {
          "base_uri": "https://localhost:8080/",
          "height": 533
        },
        "id": "Jx0ZnQCLotTl",
        "outputId": "851f9885-c324-49ad-b0f4-91922095b824"
      },
      "execution_count": null,
      "outputs": [
        {
          "output_type": "execute_result",
          "data": {
            "image/png": "[encoded data removed]",
            "text/plain": [
              "<IPython.core.display.Image object>"
            ]
          },
          "metadata": {},
          "execution_count": 98
        }
      ]
    },
    {
      "cell_type": "code",
      "source": [
        "hidden1=model.layers[1]\n",
        "hidden1.name"
      ],
      "metadata": {
        "colab": {
          "base_uri": "https://localhost:8080/",
          "height": 35
        },
        "id": "ircT7lx-otVr",
        "outputId": "b6bd28b0-a804-497e-a723-d55ff2b79c83"
      },
      "execution_count": null,
      "outputs": [
        {
          "output_type": "execute_result",
          "data": {
            "text/plain": [
              "'dense'"
            ],
            "application/vnd.google.colaboratory.intrinsic+json": {
              "type": "string"
            }
          },
          "metadata": {},
          "execution_count": 99
        }
      ]
    },
    {
      "cell_type": "code",
      "source": [
        "weights, biases =hidden1.get_weights()"
      ],
      "metadata": {
        "id": "l1h5IdButaOj"
      },
      "execution_count": null,
      "outputs": []
    },
    {
      "cell_type": "code",
      "source": [
        "weights"
      ],
      "metadata": {
        "colab": {
          "base_uri": "https://localhost:8080/"
        },
        "id": "G8lZp1TftaQy",
        "outputId": "117f3484-6f44-43c9-df12-594b64d2a1ab"
      },
      "execution_count": null,
      "outputs": [
        {
          "output_type": "execute_result",
          "data": {
            "text/plain": [
              "array([[ 0.02448617, -0.00877795, -0.02189048, ..., -0.02766046,\n",
              "         0.03859074, -0.06889391],\n",
              "       [ 0.00476504, -0.03105379, -0.0586676 , ...,  0.00602964,\n",
              "        -0.02763776, -0.04165364],\n",
              "       [-0.06189284, -0.06901957,  0.07102345, ..., -0.04238207,\n",
              "         0.07121518, -0.07331658],\n",
              "       ...,\n",
              "       [-0.03048757,  0.02155137, -0.05400612, ..., -0.00113463,\n",
              "         0.00228987,  0.05581069],\n",
              "       [ 0.07061854, -0.06960931,  0.07038955, ..., -0.00384101,\n",
              "         0.00034875,  0.02878492],\n",
              "       [-0.06022581,  0.01577859, -0.02585464, ..., -0.00527829,\n",
              "         0.00272203, -0.06793761]], dtype=float32)"
            ]
          },
          "metadata": {},
          "execution_count": 101
        }
      ]
    },
    {
      "cell_type": "code",
      "source": [
        "weights.shape"
      ],
      "metadata": {
        "colab": {
          "base_uri": "https://localhost:8080/"
        },
        "id": "7zPmBfrPtaTW",
        "outputId": "c23fe539-c118-4372-fa91-a7e9c13a7926"
      },
      "execution_count": null,
      "outputs": [
        {
          "output_type": "execute_result",
          "data": {
            "text/plain": [
              "(784, 300)"
            ]
          },
          "metadata": {},
          "execution_count": 102
        }
      ]
    },
    {
      "cell_type": "code",
      "source": [
        "biases.shape"
      ],
      "metadata": {
        "colab": {
          "base_uri": "https://localhost:8080/"
        },
        "id": "FlYWqCsMtaVf",
        "outputId": "0ab53404-f893-43a0-f90c-171133f992d4"
      },
      "execution_count": null,
      "outputs": [
        {
          "output_type": "execute_result",
          "data": {
            "text/plain": [
              "(300,)"
            ]
          },
          "metadata": {},
          "execution_count": 103
        }
      ]
    },
    {
      "cell_type": "markdown",
      "source": [
        "Compile and train the model"
      ],
      "metadata": {
        "id": "Jhd_73TOt1kA"
      }
    },
    {
      "cell_type": "code",
      "source": [
        "from tensorflow.python import metrics\n",
        "model.compile(\n",
        "    loss=keras.losses.sparse_categorical_crossentropy,\n",
        "    optimizer=keras.optimizers.SGD(),\n",
        "    metrics=[keras.metrics.sparse_categorical_accuracy]\n",
        ")"
      ],
      "metadata": {
        "id": "KZVJkvuPtzWe"
      },
      "execution_count": null,
      "outputs": []
    },
    {
      "cell_type": "code",
      "source": [
        "history = model.fit(\n",
        "    X_train, y_train, epochs =30,\n",
        "    validation_data=(X_valid, y_valid)\n",
        ")"
      ],
      "metadata": {
        "colab": {
          "base_uri": "https://localhost:8080/"
        },
        "id": "9ppyCqCWtzYn",
        "outputId": "14c2a171-1dae-462d-8061-eb052a47a829"
      },
      "execution_count": null,
      "outputs": [
        {
          "output_type": "stream",
          "name": "stdout",
          "text": [
            "Epoch 1/30\n",
            "1719/1719 [==============================] - 9s 5ms/step - loss: 0.7237 - sparse_categorical_accuracy: 0.7643 - val_loss: 0.5213 - val_sparse_categorical_accuracy: 0.8226\n",
            "Epoch 2/30\n",
            "1719/1719 [==============================] - 12s 7ms/step - loss: 0.4842 - sparse_categorical_accuracy: 0.8317 - val_loss: 0.4351 - val_sparse_categorical_accuracy: 0.8538\n",
            "Epoch 3/30\n",
            "1719/1719 [==============================] - 14s 8ms/step - loss: 0.4392 - sparse_categorical_accuracy: 0.8454 - val_loss: 0.5360 - val_sparse_categorical_accuracy: 0.7978\n",
            "Epoch 4/30\n",
            "1719/1719 [==============================] - 9s 5ms/step - loss: 0.4124 - sparse_categorical_accuracy: 0.8566 - val_loss: 0.3917 - val_sparse_categorical_accuracy: 0.8648\n",
            "Epoch 5/30\n",
            "1719/1719 [==============================] - 8s 5ms/step - loss: 0.3940 - sparse_categorical_accuracy: 0.8619 - val_loss: 0.3749 - val_sparse_categorical_accuracy: 0.8690\n",
            "Epoch 6/30\n",
            "1719/1719 [==============================] - 8s 5ms/step - loss: 0.3751 - sparse_categorical_accuracy: 0.8671 - val_loss: 0.3716 - val_sparse_categorical_accuracy: 0.8728\n",
            "Epoch 7/30\n",
            "1719/1719 [==============================] - 8s 5ms/step - loss: 0.3632 - sparse_categorical_accuracy: 0.8714 - val_loss: 0.3621 - val_sparse_categorical_accuracy: 0.8720\n",
            "Epoch 8/30\n",
            "1719/1719 [==============================] - 8s 5ms/step - loss: 0.3518 - sparse_categorical_accuracy: 0.8751 - val_loss: 0.3861 - val_sparse_categorical_accuracy: 0.8614\n",
            "Epoch 9/30\n",
            "1719/1719 [==============================] - 8s 5ms/step - loss: 0.3415 - sparse_categorical_accuracy: 0.8790 - val_loss: 0.3579 - val_sparse_categorical_accuracy: 0.8706\n",
            "Epoch 10/30\n",
            "1719/1719 [==============================] - 8s 5ms/step - loss: 0.3321 - sparse_categorical_accuracy: 0.8820 - val_loss: 0.3426 - val_sparse_categorical_accuracy: 0.8784\n",
            "Epoch 11/30\n",
            "1719/1719 [==============================] - 8s 5ms/step - loss: 0.3241 - sparse_categorical_accuracy: 0.8840 - val_loss: 0.3457 - val_sparse_categorical_accuracy: 0.8772\n",
            "Epoch 12/30\n",
            "1719/1719 [==============================] - 8s 5ms/step - loss: 0.3149 - sparse_categorical_accuracy: 0.8868 - val_loss: 0.3311 - val_sparse_categorical_accuracy: 0.8822\n",
            "Epoch 13/30\n",
            "1719/1719 [==============================] - 8s 5ms/step - loss: 0.3080 - sparse_categorical_accuracy: 0.8894 - val_loss: 0.3270 - val_sparse_categorical_accuracy: 0.8872\n",
            "Epoch 14/30\n",
            "1719/1719 [==============================] - 8s 5ms/step - loss: 0.3021 - sparse_categorical_accuracy: 0.8913 - val_loss: 0.3407 - val_sparse_categorical_accuracy: 0.8780\n",
            "Epoch 15/30\n",
            "1719/1719 [==============================] - 9s 5ms/step - loss: 0.2946 - sparse_categorical_accuracy: 0.8937 - val_loss: 0.3227 - val_sparse_categorical_accuracy: 0.8848\n",
            "Epoch 16/30\n",
            "1719/1719 [==============================] - 8s 5ms/step - loss: 0.2891 - sparse_categorical_accuracy: 0.8973 - val_loss: 0.3089 - val_sparse_categorical_accuracy: 0.8906\n",
            "Epoch 17/30\n",
            "1719/1719 [==============================] - 8s 5ms/step - loss: 0.2838 - sparse_categorical_accuracy: 0.8977 - val_loss: 0.3568 - val_sparse_categorical_accuracy: 0.8732\n",
            "Epoch 18/30\n",
            "1719/1719 [==============================] - 9s 5ms/step - loss: 0.2776 - sparse_categorical_accuracy: 0.9000 - val_loss: 0.3129 - val_sparse_categorical_accuracy: 0.8902\n",
            "Epoch 19/30\n",
            "1719/1719 [==============================] - 9s 5ms/step - loss: 0.2728 - sparse_categorical_accuracy: 0.9024 - val_loss: 0.3114 - val_sparse_categorical_accuracy: 0.8898\n",
            "Epoch 20/30\n",
            "1719/1719 [==============================] - 8s 5ms/step - loss: 0.2673 - sparse_categorical_accuracy: 0.9035 - val_loss: 0.3269 - val_sparse_categorical_accuracy: 0.8818\n",
            "Epoch 21/30\n",
            "1719/1719 [==============================] - 8s 5ms/step - loss: 0.2623 - sparse_categorical_accuracy: 0.9053 - val_loss: 0.3046 - val_sparse_categorical_accuracy: 0.8932\n",
            "Epoch 22/30\n",
            "1719/1719 [==============================] - 8s 5ms/step - loss: 0.2576 - sparse_categorical_accuracy: 0.9073 - val_loss: 0.2972 - val_sparse_categorical_accuracy: 0.8976\n",
            "Epoch 23/30\n",
            "1719/1719 [==============================] - 8s 5ms/step - loss: 0.2535 - sparse_categorical_accuracy: 0.9081 - val_loss: 0.3011 - val_sparse_categorical_accuracy: 0.8928\n",
            "Epoch 24/30\n",
            "1719/1719 [==============================] - 8s 5ms/step - loss: 0.2482 - sparse_categorical_accuracy: 0.9105 - val_loss: 0.3099 - val_sparse_categorical_accuracy: 0.8868\n",
            "Epoch 25/30\n",
            "1719/1719 [==============================] - 8s 5ms/step - loss: 0.2444 - sparse_categorical_accuracy: 0.9121 - val_loss: 0.2975 - val_sparse_categorical_accuracy: 0.8950\n",
            "Epoch 26/30\n",
            "1719/1719 [==============================] - 8s 5ms/step - loss: 0.2405 - sparse_categorical_accuracy: 0.9134 - val_loss: 0.3055 - val_sparse_categorical_accuracy: 0.8910\n",
            "Epoch 27/30\n",
            "1719/1719 [==============================] - 8s 5ms/step - loss: 0.2361 - sparse_categorical_accuracy: 0.9157 - val_loss: 0.3069 - val_sparse_categorical_accuracy: 0.8936\n",
            "Epoch 28/30\n",
            "1719/1719 [==============================] - 8s 5ms/step - loss: 0.2326 - sparse_categorical_accuracy: 0.9162 - val_loss: 0.3020 - val_sparse_categorical_accuracy: 0.8922\n",
            "Epoch 29/30\n",
            "1719/1719 [==============================] - 8s 5ms/step - loss: 0.2284 - sparse_categorical_accuracy: 0.9184 - val_loss: 0.3071 - val_sparse_categorical_accuracy: 0.8914\n",
            "Epoch 30/30\n",
            "1719/1719 [==============================] - 8s 5ms/step - loss: 0.2251 - sparse_categorical_accuracy: 0.9191 - val_loss: 0.3043 - val_sparse_categorical_accuracy: 0.8930\n"
          ]
        }
      ]
    },
    {
      "cell_type": "code",
      "source": [
        "history.params"
      ],
      "metadata": {
        "colab": {
          "base_uri": "https://localhost:8080/"
        },
        "id": "R5CbTWnDtzas",
        "outputId": "5545fbbb-889c-45ed-8286-a1ec50b9f3f9"
      },
      "execution_count": null,
      "outputs": [
        {
          "output_type": "execute_result",
          "data": {
            "text/plain": [
              "{'verbose': 1, 'epochs': 30, 'steps': 1719}"
            ]
          },
          "metadata": {},
          "execution_count": 106
        }
      ]
    },
    {
      "cell_type": "code",
      "source": [
        "history.history.keys()"
      ],
      "metadata": {
        "colab": {
          "base_uri": "https://localhost:8080/"
        },
        "id": "iQ5twQgatzdF",
        "outputId": "67414993-fa5d-4631-d923-666c3a424534"
      },
      "execution_count": null,
      "outputs": [
        {
          "output_type": "execute_result",
          "data": {
            "text/plain": [
              "dict_keys(['loss', 'sparse_categorical_accuracy', 'val_loss', 'val_sparse_categorical_accuracy'])"
            ]
          },
          "metadata": {},
          "execution_count": 107
        }
      ]
    },
    {
      "cell_type": "code",
      "source": [
        "import pandas as pd\n",
        "\n",
        "pd.DataFrame(history.history).plot(figsize=(8, 5))\n",
        "plt.grid(True)\n",
        "plt.gca().set_ylim(0, 1)"
      ],
      "metadata": {
        "colab": {
          "base_uri": "https://localhost:8080/",
          "height": 345
        },
        "id": "oLTxez3Ftzfb",
        "outputId": "b017ff4c-7e10-4ef5-fcdc-ae88bd884735"
      },
      "execution_count": null,
      "outputs": [
        {
          "output_type": "execute_result",
          "data": {
            "text/plain": [
              "(0.0, 1.0)"
            ]
          },
          "metadata": {},
          "execution_count": 108
        },
        {
          "output_type": "display_data",
          "data": {
            "text/plain": [
              "<Figure size 576x360 with 1 Axes>"
            ],
            "image/png": "[encoded data removed]"
          },
          "metadata": {
            "needs_background": "light"
          }
        }
      ]
    },
    {
      "cell_type": "markdown",
      "source": [
        "Evaluate and save the model"
      ],
      "metadata": {
        "id": "ydRLaLnTxWt2"
      }
    },
    {
      "cell_type": "code",
      "source": [
        "model.evaluate(X_test, y_test)"
      ],
      "metadata": {
        "colab": {
          "base_uri": "https://localhost:8080/"
        },
        "id": "-_BLV2GQtzhv",
        "outputId": "d872fdd3-88a8-4ef7-a86a-9c3b95c16939"
      },
      "execution_count": null,
      "outputs": [
        {
          "output_type": "stream",
          "name": "stdout",
          "text": [
            "313/313 [==============================] - 1s 3ms/step - loss: 0.3366 - sparse_categorical_accuracy: 0.8835\n"
          ]
        },
        {
          "output_type": "execute_result",
          "data": {
            "text/plain": [
              "[0.33657705783843994, 0.8834999799728394]"
            ]
          },
          "metadata": {},
          "execution_count": 109
        }
      ]
    },
    {
      "cell_type": "code",
      "source": [],
      "metadata": {
        "id": "hqdDpoHktzkF"
      },
      "execution_count": null,
      "outputs": []
    }
  ]
}