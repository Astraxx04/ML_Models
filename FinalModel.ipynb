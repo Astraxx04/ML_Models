{
  "nbformat": 4,
  "nbformat_minor": 0,
  "metadata": {
    "colab": {
      "provenance": [],
      "authorship_tag": "ABX9TyMAVPVeo6W8GNB0eqjfqLp9",
      "include_colab_link": true
    },
    "kernelspec": {
      "name": "python3",
      "display_name": "Python 3"
    },
    "language_info": {
      "name": "python"
    }
  },
  "cells": [
    {
      "cell_type": "markdown",
      "metadata": {
        "id": "view-in-github",
        "colab_type": "text"
      },
      "source": [
        "<a href=\"https://colab.research.google.com/github/Astraxx04/ML_Models/blob/main/FinalModel.ipynb\" target=\"_parent\"><img src=\"https://colab.research.google.com/assets/colab-badge.svg\" alt=\"Open In Colab\"/></a>"
      ]
    },
    {
      "cell_type": "code",
      "source": [
        "%pip install PyPDF2\n",
        "%pip install rake-nltk\n",
        "import PyPDF2"
      ],
      "metadata": {
        "colab": {
          "base_uri": "https://localhost:8080/"
        },
        "id": "w4pDxy_0rvlo",
        "outputId": "e5b44879-0538-4b22-b81a-886cbbdd5ee9"
      },
      "execution_count": null,
      "outputs": [
        {
          "output_type": "stream",
          "name": "stdout",
          "text": [
            "Looking in indexes: https://pypi.org/simple, https://us-python.pkg.dev/colab-wheels/public/simple/\n",
            "Collecting PyPDF2\n",
            "  Downloading pypdf2-3.0.1-py3-none-any.whl (232 kB)\n",
            "\u001b[2K     \u001b[90m━━━━━━━━━━━━━━━━━━━━━━━━━━━━━━━━━━━━━━━\u001b[0m \u001b[32m232.6/232.6 KB\u001b[0m \u001b[31m6.0 MB/s\u001b[0m eta \u001b[36m0:00:00\u001b[0m\n",
            "\u001b[?25hRequirement already satisfied: typing_extensions>=3.10.0.0 in /usr/local/lib/python3.8/dist-packages (from PyPDF2) (4.4.0)\n",
            "Installing collected packages: PyPDF2\n",
            "Successfully installed PyPDF2-3.0.1\n",
            "Looking in indexes: https://pypi.org/simple, https://us-python.pkg.dev/colab-wheels/public/simple/\n",
            "Collecting rake-nltk\n",
            "  Downloading rake_nltk-1.0.6-py3-none-any.whl (9.1 kB)\n",
            "Requirement already satisfied: nltk<4.0.0,>=3.6.2 in /usr/local/lib/python3.8/dist-packages (from rake-nltk) (3.7)\n",
            "Requirement already satisfied: regex>=2021.8.3 in /usr/local/lib/python3.8/dist-packages (from nltk<4.0.0,>=3.6.2->rake-nltk) (2022.6.2)\n",
            "Requirement already satisfied: click in /usr/local/lib/python3.8/dist-packages (from nltk<4.0.0,>=3.6.2->rake-nltk) (7.1.2)\n",
            "Requirement already satisfied: tqdm in /usr/local/lib/python3.8/dist-packages (from nltk<4.0.0,>=3.6.2->rake-nltk) (4.64.1)\n",
            "Requirement already satisfied: joblib in /usr/local/lib/python3.8/dist-packages (from nltk<4.0.0,>=3.6.2->rake-nltk) (1.2.0)\n",
            "Installing collected packages: rake-nltk\n",
            "Successfully installed rake-nltk-1.0.6\n"
          ]
        }
      ]
    },
    {
      "cell_type": "code",
      "source": [
        "pdffileobj=open('Testing.pdf','rb')"
      ],
      "metadata": {
        "id": "TiwJLnf3rvjS"
      },
      "execution_count": null,
      "outputs": []
    },
    {
      "cell_type": "code",
      "source": [
        "pdfreader=PyPDF2.PdfReader(pdffileobj)\n",
        "x=len(pdfreader.pages)"
      ],
      "metadata": {
        "id": "TB4NvNzqrvgr"
      },
      "execution_count": null,
      "outputs": []
    },
    {
      "cell_type": "code",
      "source": [
        "pageobj=pdfreader.pages[0]"
      ],
      "metadata": {
        "id": "FifqfP7Hrvdz"
      },
      "execution_count": null,
      "outputs": []
    },
    {
      "cell_type": "code",
      "source": [
        "text=pageobj.extract_text()"
      ],
      "metadata": {
        "id": "6_7FiLbYrvbL"
      },
      "execution_count": null,
      "outputs": []
    },
    {
      "cell_type": "code",
      "source": [
        "print(text)"
      ],
      "metadata": {
        "colab": {
          "base_uri": "https://localhost:8080/"
        },
        "id": "0Zdy3n0JrvRp",
        "outputId": "0a563c6c-9028-4fae-d974-4976ca76b2a4"
      },
      "execution_count": null,
      "outputs": [
        {
          "output_type": "stream",
          "name": "stdout",
          "text": [
            " DAYANANDA SAGAR COLLEGE OF ENGINEERING (An Autonomous Institute Affiliated to VTU, Belagavi) Approved by AICTE &amp; ISO 9001:2008 Certified) Accredited by National Assessment &amp; Accreditation Council (NAAC) with ‘A’ grade Shavige Malleshwara Hills, Kumaraswamy Layout, Bengaluru-560078 DEPARTMENT OF INFORMATION SCIENCE AND ENGINEERING SCHEME  2018  \n",
            " \n",
            " Unit. Content of the Unit Hours COs 1. Introduction: Introduction ; An example; Characteristics of Database approach; Advantages of using DBMS approach; When not to use DBMS; Data models, schemas and instances; Three schema architecture and data independence; Database System environment. Entity-Relationship model: A sample Database Application; Entity types, Entity Sets, Attributes and Keys; Relationship types, Relationship Sets, Roles and structural Constraints; Weak Entity types; ER Diagrams, Naming Conventions and Design issues. 10 CO1, CO2, CO6 \n",
            "2. Relational Model: Relational Model Concepts; Relational Model constraints and Relational Database Schemas; update operations, Transactions and dealing with constraint violations. Relational Algebra: Unary Relational Operations: SELECT and PROJECT; Relational Algebra Operations from Set Theory; Binary Relational Operations: JOIN and DIVISION; Additional Relational Operations. Relational Database Design Using ER-to-Relational mapping.  10 CO1, CO2 3. SQL: Overview; The Form of a Basic SQL Query; Union, Intersect and Except; Nested Queries; Aggregate Operators; Null Values 10 CO4  4. SQL: Complex Integrity Constraints in SQL; Triggers and active Databases; Accessing Databases from Applications; Stored Procedures. Database Design: Informal Design Guidelines for Relation Schemas; Functional Dependencies; Normal Forms Based on Primary Keys 10 CO4, CO5, CO6 5. Database Design: General Definitions of Second and Third Normal Forms; Boyce-Codd Normal form. Transaction Management: The ACID properties; Transactions and Schedules; Concurrent Execution of Transactions; Lock Based Concurrency Control; Transaction Support in SQL 10 CO3, CO5, CO6  \n"
          ]
        }
      ]
    },
    {
      "cell_type": "code",
      "source": [
        "import nltk\n",
        "nltk.download('stopwords')\n",
        "nltk.download('punkt')"
      ],
      "metadata": {
        "colab": {
          "base_uri": "https://localhost:8080/"
        },
        "id": "9SSX7al9dzCH",
        "outputId": "2540f381-8043-4239-af6a-3b782b3d5a72"
      },
      "execution_count": null,
      "outputs": [
        {
          "output_type": "stream",
          "name": "stderr",
          "text": [
            "[nltk_data] Downloading package stopwords to /root/nltk_data...\n",
            "[nltk_data]   Unzipping corpora/stopwords.zip.\n",
            "[nltk_data] Downloading package punkt to /root/nltk_data...\n",
            "[nltk_data]   Unzipping tokenizers/punkt.zip.\n"
          ]
        },
        {
          "output_type": "execute_result",
          "data": {
            "text/plain": [
              "True"
            ]
          },
          "metadata": {},
          "execution_count": 7
        }
      ]
    },
    {
      "cell_type": "code",
      "source": [
        "from rake_nltk import Rake"
      ],
      "metadata": {
        "id": "sKD8P_7rd42e"
      },
      "execution_count": null,
      "outputs": []
    },
    {
      "cell_type": "code",
      "source": [
        "r=Rake ()"
      ],
      "metadata": {
        "id": "zoJw7s6zd9Pd"
      },
      "execution_count": null,
      "outputs": []
    },
    {
      "cell_type": "code",
      "source": [
        "r.extract_keywords_from_text(text)\n",
        "keyword_extracted = r.get_ranked_phrases()[2:25]\n",
        "print(keyword_extracted)"
      ],
      "metadata": {
        "colab": {
          "base_uri": "https://localhost:8080/"
        },
        "id": "6VIPm08ke8ju",
        "outputId": "76c31b95-d97f-4d9b-e7ad-23822fadf9af"
      },
      "execution_count": null,
      "outputs": [
        {
          "output_type": "stream",
          "name": "stdout",
          "text": [
            "['relational database design using er', 'unit hours cos 1', 'lock based concurrency control', 'engineering scheme 2018 unit', 'primary keys 10 co4', 'normal forms based', 'using dbms approach', 'three schema architecture', 'third normal forms', 'dayananda sagar college', 'autonomous institute affiliated', 'sample database application', 'database system environment', 'informal design guidelines', 'unary relational operations', 'binary relational operations', 'additional relational operations', 'complex integrity constraints', 'relational model concepts', 'relational algebra operations', 'relational model constraints', 'sql 10 co3', 'codd normal form']\n"
          ]
        }
      ]
    },
    {
      "cell_type": "code",
      "source": [
        "x=keyword_extracted\n",
        "print(x)"
      ],
      "metadata": {
        "colab": {
          "base_uri": "https://localhost:8080/"
        },
        "id": "epCO4G3DZRDD",
        "outputId": "055b636c-1863-407a-f4d1-6315c77987a3"
      },
      "execution_count": null,
      "outputs": [
        {
          "output_type": "stream",
          "name": "stdout",
          "text": [
            "['relational database design using er', 'unit hours cos 1', 'lock based concurrency control', 'engineering scheme 2018 unit', 'primary keys 10 co4', 'normal forms based', 'using dbms approach', 'three schema architecture', 'third normal forms', 'dayananda sagar college', 'autonomous institute affiliated', 'sample database application', 'database system environment', 'informal design guidelines', 'unary relational operations', 'binary relational operations', 'additional relational operations', 'complex integrity constraints', 'relational model concepts', 'relational algebra operations', 'relational model constraints', 'sql 10 co3', 'codd normal form']\n"
          ]
        }
      ]
    },
    {
      "cell_type": "code",
      "source": [
        "import re"
      ],
      "metadata": {
        "id": "5_KeaUnbZjWY"
      },
      "execution_count": null,
      "outputs": []
    },
    {
      "cell_type": "code",
      "source": [
        "def unwanted_number(x):\n",
        "  for k in x:\n",
        "    numbers = re.findall('[0-9]+', k)\n",
        "    if(numbers):\n",
        "      x.remove(k)\n",
        "  print(x)"
      ],
      "metadata": {
        "id": "J57wtNRmZjTi"
      },
      "execution_count": null,
      "outputs": []
    },
    {
      "cell_type": "code",
      "source": [
        "def unwanted_text(x):\n",
        "  for k in x:\n",
        "    k = re.sub(\"\\d+\", \"\",k)\n",
        "    text = re.findall('(.*?)dayananda(.*?)', k) or re.findall('(.*?)university(.*?)', k) or re.findall('(.*?)malleshwara(.*?)', k) or re.findall('(.*?)institute(.*?)', k) or re.findall('(.*?)engineering(.*?)', k) or re.findall('(.*?)autonomous(.*?)', k)\n",
        "    if(text):\n",
        "      x.remove(k)\n",
        "  print(x)"
      ],
      "metadata": {
        "id": "cjoccl55b_5F"
      },
      "execution_count": null,
      "outputs": []
    },
    {
      "cell_type": "code",
      "source": [
        "print(keyword_extracted)\n",
        "unwanted_number(x)\n",
        "unwanted_text(x)"
      ],
      "metadata": {
        "colab": {
          "base_uri": "https://localhost:8080/"
        },
        "id": "no44h4r9ZjLM",
        "outputId": "3baf5c77-4424-4254-98b0-323f4f5b5973"
      },
      "execution_count": null,
      "outputs": [
        {
          "output_type": "stream",
          "name": "stdout",
          "text": [
            "['relational database design using er', 'lock based concurrency control', 'primary keys 10 co4', 'normal forms based', 'using dbms approach', 'three schema architecture', 'third normal forms', 'autonomous institute affiliated', 'sample database application', 'database system environment', 'informal design guidelines', 'unary relational operations', 'binary relational operations', 'additional relational operations', 'complex integrity constraints', 'relational model concepts', 'relational algebra operations', 'relational model constraints', 'codd normal form']\n",
            "['relational database design using er', 'lock based concurrency control', 'normal forms based', 'using dbms approach', 'three schema architecture', 'third normal forms', 'autonomous institute affiliated', 'sample database application', 'database system environment', 'informal design guidelines', 'unary relational operations', 'binary relational operations', 'additional relational operations', 'complex integrity constraints', 'relational model concepts', 'relational algebra operations', 'relational model constraints', 'codd normal form']\n",
            "['relational database design using er', 'lock based concurrency control', 'normal forms based', 'using dbms approach', 'three schema architecture', 'third normal forms', 'sample database application', 'database system environment', 'informal design guidelines', 'unary relational operations', 'binary relational operations', 'additional relational operations', 'complex integrity constraints', 'relational model concepts', 'relational algebra operations', 'relational model constraints', 'codd normal form']\n"
          ]
        }
      ]
    }
  ]
}